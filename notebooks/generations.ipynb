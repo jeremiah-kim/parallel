{
 "cells": [
  {
   "metadata": {},
   "cell_type": "markdown",
   "source": "",
   "id": "75a10c1549336a33"
  },
  {
   "cell_type": "code",
   "id": "initial_id",
   "metadata": {
    "collapsed": true,
    "ExecuteTime": {
     "end_time": "2024-06-08T21:30:56.510074Z",
     "start_time": "2024-06-08T21:30:56.507573Z"
    }
   },
   "source": [
    "import pandas as pd\n",
    "import re"
   ],
   "outputs": [],
   "execution_count": 40
  },
  {
   "metadata": {
    "ExecuteTime": {
     "end_time": "2024-06-08T21:30:56.840044Z",
     "start_time": "2024-06-08T21:30:56.834905Z"
    }
   },
   "cell_type": "code",
   "source": [
    "# import raw FRED dataset to a dataframe\n",
    "directory = 'C:/Users/jerem/PycharmProjects/parallel/data/generations/'\n",
    "df = pd.read_csv(directory + 'gen_data.csv',index_col=0)\n",
    "\n",
    "#assign labels to replace the series id\n",
    "labels = {\"900000\": \"income \",\n",
    "          \"HOMEOWN\": \"%homeown \",\n",
    "          \"LB0402M\": \"<=24\",\n",
    "          \"LB0403M\": \"25-34\",\n",
    "          \"LB0404M\": \"35-44\",\n",
    "          \"LB0405M\": \"45-54\",\n",
    "          \"LB0406M\": \"55-64\",\n",
    "          \"LB0408M\": \"65-74\",\n",
    "          \"LB0409M\": \">=75\",\n",
    "          \"CXU\": \"\",\n",
    "          \"CPIAUCSL\": \"cpi\",\n",
    "          \"MSPUS\": \"house_price\",\n",
    "          \"MEDSERVS\": \"medical \"}\n",
    "\n",
    "\n",
    "def replace_labels(s, replacements):\n",
    "    pattern = re.compile(\"|\".join(re.escape(key) for key in replacements.keys()))\n",
    "    return pattern.sub(lambda match: replacements[match.group(0)], s)\n",
    "\n",
    "#edit column names based off the labels dict\n",
    "df.columns = [replace_labels(col, labels) for col in df.columns]\n",
    "\n",
    "#remove the month and day string from row index and name it a 'year'\n",
    "df.index = df.index.map(lambda x: x[:4])\n",
    "df.index.names = ['year']"
   ],
   "id": "6c2aca254c163d37",
   "outputs": [],
   "execution_count": 41
  },
  {
   "metadata": {},
   "cell_type": "markdown",
   "source": "First off, adjusting the income values with CPI (All Urban Consumers), creating new columns which contain incomes in 2022 dollars.",
   "id": "3c61ad35adc872fe"
  },
  {
   "metadata": {
    "ExecuteTime": {
     "end_time": "2024-06-08T21:30:57.794860Z",
     "start_time": "2024-06-08T21:30:57.787557Z"
    }
   },
   "cell_type": "code",
   "source": [
    "cpi_2022 = df.loc['2022']['cpi']\n",
    "\n",
    "#adjust pre-tax income using 2022 dollars\n",
    "for bracket in df.filter(like='income'):\n",
    "    df[\"adj_\" + bracket] = df[bracket] * (cpi_2022 / df[\"cpi\"])\n",
    "    \n",
    "#adjust median home price using 2022 dolalrs\n",
    "df[\"adj_house_price\"] = df[\"house_price\"] * (cpi_2022 / df[\"cpi\"])\n",
    "\n",
    "#adjust medical costs using 2022 dollars\n",
    "for bracket in df.filter(like='medical'):\n",
    "    df[\"adj_\" + bracket] = df[bracket] * (cpi_2022 / df[\"cpi\"])"
   ],
   "id": "d67f868193e74b95",
   "outputs": [],
   "execution_count": 42
  },
  {
   "metadata": {
    "ExecuteTime": {
     "end_time": "2024-06-08T21:30:58.419574Z",
     "start_time": "2024-06-08T21:30:58.413574Z"
    }
   },
   "cell_type": "code",
   "source": [
    "#calculate average public school cost as a percentage of income (apcp) and house price-to-income ratio (h_pti)\n",
    "for bracket in df.filter(like='adj_income'):\n",
    "    age = bracket.split()[-1]\n",
    "    df['apcp ' + age] = (df['tuition_cost'] / df[bracket]) * 100\n",
    "    df['h_pti ' + age] = (df['adj_house_price'] / df[bracket])"
   ],
   "id": "a7d11af1752dc301",
   "outputs": [],
   "execution_count": 43
  },
  {
   "metadata": {
    "ExecuteTime": {
     "end_time": "2024-06-08T21:31:02.550067Z",
     "start_time": "2024-06-08T21:31:02.535050Z"
    }
   },
   "cell_type": "code",
   "source": [
    "# rank every bracket in the big 4 and create an index\n",
    "for bracket in df.filter(like='adj_income'):\n",
    "    age = bracket.split()[-1]\n",
    "    df['RANK_adj_income ' + age] = df['adj_income ' + age].rank(ascending=False)\n",
    "    df['RANK_apcp ' + age] = df['apcp ' + age].rank(ascending=True)\n",
    "    df['RANK_h_pti ' + age] = df['h_pti ' + age].rank(ascending=True)\n",
    "    # df['RANK_adj_medical ' + age] = df['adj_medical ' + age].rank(ascending=True)\n",
    "    \n",
    "for bracket in df.filter(like='adj_income'):\n",
    "    age = bracket.split()[-1]\n",
    "    df['COMBINED ' + age] = df[['RANK_adj_income ' + age,'RANK_apcp ' + age,'RANK_h_pti ' + age]].sum(axis=1)\n",
    "    min_combined = df['COMBINED ' + age].min()\n",
    "    max_combined = df['COMBINED ' + age].max()\n",
    "    df['INDEX ' + age] = 1 - (df['COMBINED ' + age] - min_combined) / (max_combined - min_combined)"
   ],
   "id": "edb6c15b1457ce5b",
   "outputs": [],
   "execution_count": 44
  },
  {
   "metadata": {
    "ExecuteTime": {
     "end_time": "2024-06-08T21:31:02.986941Z",
     "start_time": "2024-06-08T21:31:02.978536Z"
    }
   },
   "cell_type": "code",
   "source": [
    "df.to_csv(directory + 'gen_data_updated.csv')\n",
    "print(df.head())"
   ],
   "id": "54912f0c21df1625",
   "outputs": [
    {
     "name": "stdout",
     "output_type": "stream",
     "text": [
      "          cpi  income <=24  income 25-34  income 35-44  income 45-54  \\\n",
      "year                                                                   \n",
      "1990  130.658      12101.0       28967.0       35431.0       36868.0   \n",
      "1991  136.167      12083.0       30274.0       36146.0       39636.0   \n",
      "1992  140.308      12998.0       29558.0       36950.0       37954.0   \n",
      "1993  144.475      13979.0       29568.0       39449.0       41720.0   \n",
      "1994  148.225      13637.0       30810.0       40400.0       42218.0   \n",
      "\n",
      "      income 55-64  income 65-74  income >=75  house_price  %homeown <=24  \\\n",
      "year                                                                        \n",
      "1990       24114.0        5439.0       1133.0     122300.0            8.0   \n",
      "1991       27400.0        6056.0        981.0     119975.0           10.0   \n",
      "1992       26044.0        5937.0       1754.0     121375.0           11.0   \n",
      "1993       26745.0        6473.0       1407.0     126500.0           10.0   \n",
      "1994       29972.0        5792.0       1885.0     130425.0           12.0   \n",
      "\n",
      "      ...  COMBINED 35-44  INDEX 35-44  COMBINED 45-54  INDEX 45-54  \\\n",
      "year  ...                                                             \n",
      "1990  ...            49.0     0.645833            51.0     0.617647   \n",
      "1991  ...            45.0     0.729167            35.0     0.852941   \n",
      "1992  ...            44.0     0.750000            53.0     0.588235   \n",
      "1993  ...            32.0     1.000000            38.0     0.808824   \n",
      "1994  ...            36.0     0.916667            45.0     0.705882   \n",
      "\n",
      "      COMBINED 55-64  INDEX 55-64  COMBINED 65-74  INDEX 65-74  COMBINED >=75  \\\n",
      "year                                                                            \n",
      "1990            63.0     0.280702            90.0     0.109756           96.0   \n",
      "1991            36.0     0.754386            83.0     0.195122           99.0   \n",
      "1992            52.0     0.473684            92.0     0.085366           69.0   \n",
      "1993            63.0     0.280702            81.0     0.219512           92.0   \n",
      "1994            36.0     0.754386            99.0     0.000000           69.0   \n",
      "\n",
      "      INDEX >=75  \n",
      "year              \n",
      "1990    0.031579  \n",
      "1991    0.000000  \n",
      "1992    0.315789  \n",
      "1993    0.073684  \n",
      "1994    0.315789  \n",
      "\n",
      "[5 rows x 88 columns]\n"
     ]
    }
   ],
   "execution_count": 45
  },
  {
   "metadata": {
    "ExecuteTime": {
     "end_time": "2024-06-09T01:24:06.078412Z",
     "start_time": "2024-06-09T01:24:06.049246Z"
    }
   },
   "cell_type": "code",
   "source": "print(df[df['year'] == 2020])",
   "id": "af021595bce8995f",
   "outputs": [
    {
     "ename": "KeyError",
     "evalue": "'year'",
     "output_type": "error",
     "traceback": [
      "\u001B[1;31m---------------------------------------------------------------------------\u001B[0m",
      "\u001B[1;31mKeyError\u001B[0m                                  Traceback (most recent call last)",
      "File \u001B[1;32m~\\miniconda3\\Lib\\site-packages\\pandas\\core\\indexes\\base.py:3805\u001B[0m, in \u001B[0;36mIndex.get_loc\u001B[1;34m(self, key)\u001B[0m\n\u001B[0;32m   3804\u001B[0m \u001B[38;5;28;01mtry\u001B[39;00m:\n\u001B[1;32m-> 3805\u001B[0m     \u001B[38;5;28;01mreturn\u001B[39;00m \u001B[38;5;28;43mself\u001B[39;49m\u001B[38;5;241;43m.\u001B[39;49m\u001B[43m_engine\u001B[49m\u001B[38;5;241;43m.\u001B[39;49m\u001B[43mget_loc\u001B[49m\u001B[43m(\u001B[49m\u001B[43mcasted_key\u001B[49m\u001B[43m)\u001B[49m\n\u001B[0;32m   3806\u001B[0m \u001B[38;5;28;01mexcept\u001B[39;00m \u001B[38;5;167;01mKeyError\u001B[39;00m \u001B[38;5;28;01mas\u001B[39;00m err:\n",
      "File \u001B[1;32mindex.pyx:167\u001B[0m, in \u001B[0;36mpandas._libs.index.IndexEngine.get_loc\u001B[1;34m()\u001B[0m\n",
      "File \u001B[1;32mindex.pyx:196\u001B[0m, in \u001B[0;36mpandas._libs.index.IndexEngine.get_loc\u001B[1;34m()\u001B[0m\n",
      "File \u001B[1;32mpandas\\\\_libs\\\\hashtable_class_helper.pxi:7081\u001B[0m, in \u001B[0;36mpandas._libs.hashtable.PyObjectHashTable.get_item\u001B[1;34m()\u001B[0m\n",
      "File \u001B[1;32mpandas\\\\_libs\\\\hashtable_class_helper.pxi:7089\u001B[0m, in \u001B[0;36mpandas._libs.hashtable.PyObjectHashTable.get_item\u001B[1;34m()\u001B[0m\n",
      "\u001B[1;31mKeyError\u001B[0m: 'year'",
      "\nThe above exception was the direct cause of the following exception:\n",
      "\u001B[1;31mKeyError\u001B[0m                                  Traceback (most recent call last)",
      "Cell \u001B[1;32mIn[46], line 1\u001B[0m\n\u001B[1;32m----> 1\u001B[0m \u001B[38;5;28mprint\u001B[39m(df[\u001B[43mdf\u001B[49m\u001B[43m[\u001B[49m\u001B[38;5;124;43m'\u001B[39;49m\u001B[38;5;124;43myear\u001B[39;49m\u001B[38;5;124;43m'\u001B[39;49m\u001B[43m]\u001B[49m \u001B[38;5;241m==\u001B[39m \u001B[38;5;241m2020\u001B[39m])\n",
      "File \u001B[1;32m~\\miniconda3\\Lib\\site-packages\\pandas\\core\\frame.py:4090\u001B[0m, in \u001B[0;36mDataFrame.__getitem__\u001B[1;34m(self, key)\u001B[0m\n\u001B[0;32m   4088\u001B[0m \u001B[38;5;28;01mif\u001B[39;00m \u001B[38;5;28mself\u001B[39m\u001B[38;5;241m.\u001B[39mcolumns\u001B[38;5;241m.\u001B[39mnlevels \u001B[38;5;241m>\u001B[39m \u001B[38;5;241m1\u001B[39m:\n\u001B[0;32m   4089\u001B[0m     \u001B[38;5;28;01mreturn\u001B[39;00m \u001B[38;5;28mself\u001B[39m\u001B[38;5;241m.\u001B[39m_getitem_multilevel(key)\n\u001B[1;32m-> 4090\u001B[0m indexer \u001B[38;5;241m=\u001B[39m \u001B[38;5;28;43mself\u001B[39;49m\u001B[38;5;241;43m.\u001B[39;49m\u001B[43mcolumns\u001B[49m\u001B[38;5;241;43m.\u001B[39;49m\u001B[43mget_loc\u001B[49m\u001B[43m(\u001B[49m\u001B[43mkey\u001B[49m\u001B[43m)\u001B[49m\n\u001B[0;32m   4091\u001B[0m \u001B[38;5;28;01mif\u001B[39;00m is_integer(indexer):\n\u001B[0;32m   4092\u001B[0m     indexer \u001B[38;5;241m=\u001B[39m [indexer]\n",
      "File \u001B[1;32m~\\miniconda3\\Lib\\site-packages\\pandas\\core\\indexes\\base.py:3812\u001B[0m, in \u001B[0;36mIndex.get_loc\u001B[1;34m(self, key)\u001B[0m\n\u001B[0;32m   3807\u001B[0m     \u001B[38;5;28;01mif\u001B[39;00m \u001B[38;5;28misinstance\u001B[39m(casted_key, \u001B[38;5;28mslice\u001B[39m) \u001B[38;5;129;01mor\u001B[39;00m (\n\u001B[0;32m   3808\u001B[0m         \u001B[38;5;28misinstance\u001B[39m(casted_key, abc\u001B[38;5;241m.\u001B[39mIterable)\n\u001B[0;32m   3809\u001B[0m         \u001B[38;5;129;01mand\u001B[39;00m \u001B[38;5;28many\u001B[39m(\u001B[38;5;28misinstance\u001B[39m(x, \u001B[38;5;28mslice\u001B[39m) \u001B[38;5;28;01mfor\u001B[39;00m x \u001B[38;5;129;01min\u001B[39;00m casted_key)\n\u001B[0;32m   3810\u001B[0m     ):\n\u001B[0;32m   3811\u001B[0m         \u001B[38;5;28;01mraise\u001B[39;00m InvalidIndexError(key)\n\u001B[1;32m-> 3812\u001B[0m     \u001B[38;5;28;01mraise\u001B[39;00m \u001B[38;5;167;01mKeyError\u001B[39;00m(key) \u001B[38;5;28;01mfrom\u001B[39;00m \u001B[38;5;21;01merr\u001B[39;00m\n\u001B[0;32m   3813\u001B[0m \u001B[38;5;28;01mexcept\u001B[39;00m \u001B[38;5;167;01mTypeError\u001B[39;00m:\n\u001B[0;32m   3814\u001B[0m     \u001B[38;5;66;03m# If we have a listlike key, _check_indexing_error will raise\u001B[39;00m\n\u001B[0;32m   3815\u001B[0m     \u001B[38;5;66;03m#  InvalidIndexError. Otherwise we fall through and re-raise\u001B[39;00m\n\u001B[0;32m   3816\u001B[0m     \u001B[38;5;66;03m#  the TypeError.\u001B[39;00m\n\u001B[0;32m   3817\u001B[0m     \u001B[38;5;28mself\u001B[39m\u001B[38;5;241m.\u001B[39m_check_indexing_error(key)\n",
      "\u001B[1;31mKeyError\u001B[0m: 'year'"
     ]
    }
   ],
   "execution_count": 46
  },
  {
   "metadata": {},
   "cell_type": "code",
   "outputs": [],
   "execution_count": null,
   "source": "",
   "id": "b03216d3ff62e07b"
  }
 ],
 "metadata": {
  "kernelspec": {
   "display_name": "Python 3",
   "language": "python",
   "name": "python3"
  },
  "language_info": {
   "codemirror_mode": {
    "name": "ipython",
    "version": 2
   },
   "file_extension": ".py",
   "mimetype": "text/x-python",
   "name": "python",
   "nbconvert_exporter": "python",
   "pygments_lexer": "ipython2",
   "version": "2.7.6"
  }
 },
 "nbformat": 4,
 "nbformat_minor": 5
}
